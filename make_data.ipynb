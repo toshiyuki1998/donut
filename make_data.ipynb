{
 "cells": [
  {
   "cell_type": "code",
   "execution_count": 1,
   "metadata": {},
   "outputs": [],
   "source": [
    "import openpyxl\n",
    "import templates\n",
    "import utils.utils\n",
    "import convert_xlsx_to_html.main"
   ]
  },
  {
   "cell_type": "code",
   "execution_count": 2,
   "metadata": {},
   "outputs": [],
   "source": [
    "\n",
    "base_xlsx_path = \"/opt/machine_learning/donut/data/templates/invoice/inv_01b.xlsx\"\n",
    "xlsx_path = \"sample.xlsx\"\n",
    "css_path = \"styles.css\"\n",
    "html_path = \"output.html\"\n",
    "workbook = openpyxl.load_workbook(base_xlsx_path)\n",
    "templates = templates.TEMPLATES"
   ]
  },
  {
   "cell_type": "code",
   "execution_count": 3,
   "metadata": {},
   "outputs": [],
   "source": [
    "sheet_name = \"見積書\"\n",
    "sheet = workbook[sheet_name]"
   ]
  },
  {
   "cell_type": "code",
   "execution_count": 4,
   "metadata": {},
   "outputs": [],
   "source": [
    "def search_dict_end(instance, key=None):\n",
    "    if isinstance(instance, dict):\n",
    "        for ins in instance.keys():\n",
    "            search_dict_end(instance[ins], ins)\n",
    "    elif isinstance(instance, list):\n",
    "        for ins in instance:\n",
    "            search_dict_end(ins)\n",
    "    elif isinstance(instance, str):\n",
    "        print(key, instance)\n",
    "        cell = sheet[key]\n",
    "        if isinstance(cell, openpyxl.cell.cell.MergedCell):\n",
    "            for merged_range in sheet.merged_cells.ranges:\n",
    "                if key in merged_range:\n",
    "                    start_cell = merged_range.min_row, merged_range.min_col\n",
    "                    start_cell = sheet.cell(row=start_cell[0], column=start_cell[1])\n",
    "                    start_cell.value = utils.utils.call_function(instance)\n",
    "                    break\n",
    "        else:\n",
    "            cell.value = utils.utils.call_function(instance)\n",
    "        print(key, instance)\n",
    "    return\n"
   ]
  },
  {
   "cell_type": "code",
   "execution_count": 5,
   "metadata": {},
   "outputs": [
    {
     "data": {
      "text/plain": [
       "<Worksheet \"見積書\">"
      ]
     },
     "execution_count": 5,
     "metadata": {},
     "output_type": "execute_result"
    }
   ],
   "source": [
    "sheet"
   ]
  },
  {
   "cell_type": "code",
   "execution_count": 6,
   "metadata": {},
   "outputs": [
    {
     "name": "stdout",
     "output_type": "stream",
     "text": [
      "B4 word\n",
      "B4 word\n",
      "H4 title\n",
      "H4 title\n",
      "J4 date\n",
      "J4 date\n",
      "H5 title\n",
      "H5 title\n",
      "J5 string\n",
      "J5 string\n",
      "B8 company\n",
      "B8 company\n",
      "D8 word\n",
      "D8 word\n",
      "B9 zipcode_and_address\n",
      "B9 zipcode_and_address\n",
      "H8 company\n",
      "H8 company\n",
      "H9 zipcode\n",
      "H9 zipcode\n",
      "H10 address\n",
      "H10 address\n",
      "H11 string\n",
      "H11 string\n",
      "H12 tel\n",
      "H12 tel\n",
      "H13 tel\n",
      "H13 tel\n",
      "H14 name\n",
      "H14 name\n",
      "B11 title\n",
      "B11 title\n",
      "C11 word\n",
      "C11 word\n",
      "B12 title\n",
      "B12 title\n",
      "C12 word\n",
      "C12 word\n",
      "B13 title\n",
      "B13 title\n",
      "C13 word\n",
      "C13 word\n",
      "B14 title\n",
      "B14 title\n",
      "C14 word\n",
      "C14 word\n",
      "B15 title\n",
      "B15 title\n",
      "C15 word\n",
      "C15 word\n",
      "B17 word\n",
      "B17 word\n",
      "C17 amount\n",
      "C17 amount\n",
      "E17 word\n",
      "E17 word\n",
      "B20 word\n",
      "B20 word\n",
      "E20 word\n",
      "E20 word\n",
      "F20 word\n",
      "F20 word\n",
      "H20 word\n",
      "H20 word\n",
      "I20 word\n",
      "I20 word\n",
      "J20 word\n",
      "J20 word\n",
      "B21 word\n",
      "B21 word\n",
      "E21 punctuation\n",
      "E21 punctuation\n",
      "F21 num\n",
      "F21 num\n",
      "G21 unit\n",
      "G21 unit\n",
      "H21 amount\n",
      "H21 amount\n",
      "I21 percentage\n",
      "I21 percentage\n",
      "J21 amount\n",
      "J21 amount\n",
      "B22 word\n",
      "B22 word\n",
      "E22 punctuation\n",
      "E22 punctuation\n",
      "F22 num\n",
      "F22 num\n",
      "G22 unit\n",
      "G22 unit\n",
      "H22 amount\n",
      "H22 amount\n",
      "I22 percentage\n",
      "I22 percentage\n",
      "J22 amount\n",
      "J22 amount\n",
      "B23 word\n",
      "B23 word\n",
      "E23 punctuation\n",
      "E23 punctuation\n",
      "F23 num\n",
      "F23 num\n",
      "G23 unit\n",
      "G23 unit\n",
      "H23 amount\n",
      "H23 amount\n",
      "I23 percentage\n",
      "I23 percentage\n",
      "J23 amount\n",
      "J23 amount\n",
      "B30 word\n",
      "B30 word\n",
      "C30 word\n",
      "C30 word\n",
      "D30 word\n",
      "D30 word\n",
      "B31 word\n",
      "B31 word\n",
      "C31 amount\n",
      "C31 amount\n",
      "D31 amount\n",
      "D31 amount\n",
      "B32 word\n",
      "B32 word\n",
      "C32 amount\n",
      "C32 amount\n",
      "D32 amount\n",
      "D32 amount\n",
      "H30 word\n",
      "H30 word\n",
      "J30 amount\n",
      "J30 amount\n",
      "H31 word\n",
      "H31 word\n",
      "J31 amount\n",
      "J31 amount\n",
      "H32 word\n",
      "H32 word\n",
      "J32 amount\n",
      "J32 amount\n",
      "B34 word\n",
      "B34 word\n",
      "B35 text\n",
      "B35 text\n"
     ]
    }
   ],
   "source": [
    "search_dict_end(templates[sheet_name])\n",
    "workbook.save(xlsx_path)"
   ]
  },
  {
   "cell_type": "code",
   "execution_count": 7,
   "metadata": {},
   "outputs": [
    {
     "name": "stdout",
     "output_type": "stream",
     "text": [
      "HTMLファイルを作成しました。\n",
      "CSSファイルを作成しました。\n",
      "完了しました。\n"
     ]
    }
   ],
   "source": [
    "convert_xlsx_to_html.main.generate_html_and_css_files(xlsx_path, css_path, html_path, sheet_name)"
   ]
  }
 ],
 "metadata": {
  "kernelspec": {
   "display_name": "donut-1S92b1Ku-py3.11",
   "language": "python",
   "name": "python3"
  },
  "language_info": {
   "codemirror_mode": {
    "name": "ipython",
    "version": 3
   },
   "file_extension": ".py",
   "mimetype": "text/x-python",
   "name": "python",
   "nbconvert_exporter": "python",
   "pygments_lexer": "ipython3",
   "version": "3.11.4"
  }
 },
 "nbformat": 4,
 "nbformat_minor": 2
}
